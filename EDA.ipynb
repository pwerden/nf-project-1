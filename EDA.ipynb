{
 "cells": [
  {
   "cell_type": "markdown",
   "metadata": {},
   "source": [
    "# Exploratory Data Analysis (EDA)\n",
    "\n",
    "## Scope of this project\n",
    "Get familiar with the _King County Housing Data_ and perform an **Exploratory Data Analysis** (EDA) with focus on the following particular requests by the stakeholder.\n",
    "\n",
    "The stakeholder: <br>\n",
    "Nicole Johnson, buyer, who seeks for a \"Lively, central neighborhood, middle price range, right timing (within a year)\""
   ]
  },
  {
   "cell_type": "markdown",
   "metadata": {},
   "source": [
    "---------------------------\n",
    "# Table of Content\n",
    "1) Import and first impression of the dataset\n",
    "2) Initial Hypotheses about the Dataset\n",
    "3) Explore and clean the dataset\n",
    "-------------------------------\n"
   ]
  },
  {
   "cell_type": "markdown",
   "metadata": {},
   "source": [
    "## 1) Import and first impression of the dataset"
   ]
  },
  {
   "cell_type": "markdown",
   "metadata": {},
   "source": [
    "First of all, we will load the data into the workspace as a _dataframe object_ using **_pandas_** and display the main characteristics of it."
   ]
  },
  {
   "cell_type": "code",
   "execution_count": null,
   "metadata": {},
   "outputs": [],
   "source": [
    "# import the necessary libraries we need for your analysis\n",
    "import pandas as pd\n",
    "import numpy as np\n",
    "import matplotlib.pyplot as plt\n",
    "import seaborn as sns\n",
    "import plotly.express as px"
   ]
  },
  {
   "cell_type": "code",
   "execution_count": null,
   "metadata": {},
   "outputs": [],
   "source": [
    "# import dataset\n",
    "df = pd.read_csv('data/King_County_House_prices_dataset.csv', parse_dates=['date'])\n",
    "df"
   ]
  },
  {
   "cell_type": "code",
   "execution_count": null,
   "metadata": {},
   "outputs": [],
   "source": [
    "# So, what size does the dataset has?\n",
    "print(\"\\n\", f\"The dataset has {df.shape[0]} rows and {df.shape[1]} columns.\", \"\\n\")\n",
    "\n",
    "# Now, let us take a view to the columns and their type:\n",
    "df.info()"
   ]
  },
  {
   "cell_type": "markdown",
   "metadata": {},
   "source": [
    "- For most of the columns the dtype looks reasonable except for _sqft_basement_ which is of type \"object\", but we expect it to be a \"float\" since the variable gives us the size of the basement in square feet.\n",
    "- For _waterfront_ we see that it is a \"float64\" and not boolean as we might have thought (either the house has a waterfront or not). So, lets have a quick view:"
   ]
  },
  {
   "cell_type": "code",
   "execution_count": null,
   "metadata": {},
   "outputs": [],
   "source": [
    "df.waterfront.unique()\n"
   ]
  },
  {
   "cell_type": "markdown",
   "metadata": {},
   "source": [
    "We see, rather than TRUE/FALSE the column has already been one-hot encoded and contains 0/1 as well as nan (not a number).<br>\n",
    "Speaking of nan, how many nan do we have in each column?"
   ]
  },
  {
   "cell_type": "code",
   "execution_count": null,
   "metadata": {},
   "outputs": [],
   "source": [
    "df.isna().sum()"
   ]
  },
  {
   "cell_type": "markdown",
   "metadata": {},
   "source": [
    "Except for _waterfront_, _yr_renovated_ and _view_ the variables (i.e. columns) are complete in the sense that no missing values appear.<br>\n",
    "But, additionally let us check wether there are any duplications or multiple entries which need to be cleaned."
   ]
  },
  {
   "cell_type": "code",
   "execution_count": null,
   "metadata": {},
   "outputs": [],
   "source": [
    "df[\"id\"].duplicated().value_counts()"
   ]
  },
  {
   "cell_type": "markdown",
   "metadata": {},
   "source": [
    "Indeed, the _id_ which is unique for each house has 177 duplications. So, are there really duplications of complete rows or does the house id just occur more than once? (For example indicating that a house has been bought and sold several times within the given time period) "
   ]
  },
  {
   "cell_type": "code",
   "execution_count": null,
   "metadata": {},
   "outputs": [],
   "source": [
    "df.duplicated().unique()"
   ]
  },
  {
   "cell_type": "markdown",
   "metadata": {},
   "source": [
    "As there is not a single TRUE value, there are no duplications of complete rows. So, for now we will keep them. <br>\n",
    "Lastly, we will take a brief view on some basic descriptive statistical parameters for each variable:"
   ]
  },
  {
   "cell_type": "code",
   "execution_count": null,
   "metadata": {},
   "outputs": [],
   "source": [
    "df.describe()"
   ]
  },
  {
   "cell_type": "markdown",
   "metadata": {},
   "source": [
    "Here, allthough being numeric, statistics for variables such as _id_, _waterfront_, _zipcode_, _latitude_ and _longitude_ can be ignored.  \n",
    "To get more insights, let's visualise some variables of the table which might be of special interest for our purpose (i.e. the requests of the stakeholder):\n",
    "- the _price_\n",
    "- the _year built_ (and _year renovated_ if applicable)\n",
    "- the _living size_ and overall _(lot) size_ of the houses\n",
    "- quality - specified via _condition_ and _grade_"
   ]
  },
  {
   "cell_type": "code",
   "execution_count": null,
   "metadata": {},
   "outputs": [],
   "source": [
    "fig, axes = plt.subplots(1, 7, figsize=(18, 8))\n",
    "\n",
    "sns.boxplot(ax=axes[0], data=df.price)\n",
    "sns.boxplot(ax=axes[1], data=df.yr_built)\n",
    "sns.boxplot(ax=axes[2], data=df['yr_renovated'])\n",
    "sns.boxplot(ax=axes[3], data=df['sqft_living'])\n",
    "sns.boxplot(ax=axes[4], data=df['sqft_lot'])\n",
    "sns.boxplot(ax=axes[5], data=df['condition'])\n",
    "sns.boxplot(ax=axes[6], data=df['grade'])\n",
    "\n",
    "axes[0].set_title('Price [USD]')\n",
    "axes[1].set_title('Year Built')\n",
    "axes[2].set_title('Year Renovated')\n",
    "axes[3].set_title('size living [sqft]')\n",
    "axes[4].set_title('size lot [sqft]')\n",
    "axes[5].set_title('condition')\n",
    "axes[6].set_title('grade');"
   ]
  },
  {
   "cell_type": "markdown",
   "metadata": {},
   "source": [
    "We can see that variables _price_, _sqft_living_ and _sqft_lot_ appear to be right skewed distributed as these have a couple of outliers towards higher values whereas _yr_built_ and _condition_ seem to have a rather symmetrical distribution. For most of the houses, the _grade_ varies between 6 and 9 with a few outliers towards both sides of the distribution. Having said this, the variable _yr_renovated_ seems to be corrupted. So lets have a look at the values:"
   ]
  },
  {
   "cell_type": "code",
   "execution_count": null,
   "metadata": {},
   "outputs": [],
   "source": [
    "df.yr_renovated.unique()"
   ]
  },
  {
   "cell_type": "markdown",
   "metadata": {},
   "source": [
    "So, there are both nan and zeros which we need to replace when proceeding with the data cleaning. We already know that there are 3842 nan, so let's count the zeros, as well:"
   ]
  },
  {
   "cell_type": "code",
   "execution_count": null,
   "metadata": {},
   "outputs": [],
   "source": [
    "(df['yr_renovated'] == 0).sum()\n"
   ]
  },
  {
   "cell_type": "markdown",
   "metadata": {},
   "source": [
    "So, out of 21,597 values we have 3,842 nan plus 17,011 zeros, ergo - at maximum - 744 values left considering there may still be some duplications."
   ]
  },
  {
   "cell_type": "markdown",
   "metadata": {},
   "source": [
    "## 2) Initial Hypotheses about the Dataset\n",
    "\n",
    "Hypotheses related to the stakeholder: <br>\n",
    "To buy a central neighborhood house in middle price range with right timing (within a year) it will\n",
    "- H1) be older than 50 years and has not been renovated in the last 25 years or\n",
    "- H2) has a below-average grade or\n",
    "- H3) has a below-average livingsquare"
   ]
  },
  {
   "cell_type": "markdown",
   "metadata": {},
   "source": [
    "## 3) Explore and clean the dataset\n",
    "\n"
   ]
  },
  {
   "cell_type": "markdown",
   "metadata": {},
   "source": [
    "Before we start with the cleaning of the data, it suitable to specify and define the stakeholders requests in terms of available parameters:\n",
    "- lively, central neighborhood:\n",
    "- middle price range:\n",
    "- right timing (within a year):"
   ]
  },
  {
   "cell_type": "markdown",
   "metadata": {},
   "source": [
    "### Add/remove columns"
   ]
  },
  {
   "cell_type": "code",
   "execution_count": null,
   "metadata": {},
   "outputs": [],
   "source": [
    "# As we want to know the right timing of buying within a year, we generate a 'month' column\n",
    "df['month'] = df.date.dt.month\n",
    "\n",
    "# Add prices for lot and living as prices per squarefeet\n",
    "df['sqft_lot_per_sqft'] = df['sqft_lot'] / df['price']\n",
    "df['sqft_living_per_sqft'] = df['sqft_living'] / df['price']\n",
    "\n",
    "# For our purpose, we don't need sqft_above and sqft_basement, as these add up to sqft_living and we are only interested \n",
    "# in the overall size of the living area and overall lot size.\n",
    "df.drop(['sqft_above','sqft_basement'], axis=1, inplace=True)"
   ]
  },
  {
   "cell_type": "code",
   "execution_count": null,
   "metadata": {},
   "outputs": [],
   "source": [
    "df"
   ]
  },
  {
   "cell_type": "code",
   "execution_count": null,
   "metadata": {},
   "outputs": [],
   "source": []
  },
  {
   "cell_type": "code",
   "execution_count": null,
   "metadata": {},
   "outputs": [],
   "source": []
  },
  {
   "cell_type": "code",
   "execution_count": null,
   "metadata": {},
   "outputs": [],
   "source": []
  }
 ],
 "metadata": {
  "kernelspec": {
   "display_name": "Python 3.9.13 ('venv_neuefische')",
   "language": "python",
   "name": "python3"
  },
  "language_info": {
   "codemirror_mode": {
    "name": "ipython",
    "version": 3
   },
   "file_extension": ".py",
   "mimetype": "text/x-python",
   "name": "python",
   "nbconvert_exporter": "python",
   "pygments_lexer": "ipython3",
   "version": "3.9.13"
  },
  "orig_nbformat": 4,
  "vscode": {
   "interpreter": {
    "hash": "e51062677875a8b5ea052bf53e7427226419fee8484775de421cdc11893fce20"
   }
  }
 },
 "nbformat": 4,
 "nbformat_minor": 2
}

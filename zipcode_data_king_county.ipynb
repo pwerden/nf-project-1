{
 "cells": [
  {
   "cell_type": "markdown",
   "metadata": {},
   "source": [
    "# Population density in King County, WA per zipcode\n",
    "\n",
    "In the main notebook **EDA.ipynb** we come up with a very simple solution to give a definition of \"central neighbourhood\". We just used a list of zip codes related to Seattle found on the internet.  Here, we want to explore a more advanced way by considering provided data giving information about the population density in each zip code area. Furthermore we will use the _plotly_ library (especially the choropleth_mapbox function) to create a visualisation. \n",
    "\n",
    "## Data about population density in Washington State\n",
    "\n",
    "We can find data about the population density for each zipcode in the USA at: <br>\n",
    "[http://zipatlas.com/us/zip-code-comparison/population-density.htm](http://zipatlas.com/us/zip-code-comparison/population-density.htm) <br>\n",
    "<br>\n",
    "As we are only interested in data from King County, we can select Washington state: <br>\n",
    "[http://zipatlas.com/us/wa/zip-code-comparison/population-density.htm](http://zipatlas.com/us/wa/zip-code-comparison/population-density.htm)"
   ]
  },
  {
   "cell_type": "markdown",
   "metadata": {},
   "source": [
    "## Data about zip codes in Washington state"
   ]
  },
  {
   "cell_type": "markdown",
   "metadata": {},
   "source": [
    "There is a github repository where we can find geographical data, i.e. information about zip code boundaries for each of the 50 states: <br>\n",
    "[https://github.com/OpenDataDE/State-zip-code-GeoJSON](https://github.com/OpenDataDE/State-zip-code-GeoJSON) <br>\n",
    "<br>\n",
    "For Washington state, the url is: <br>\n",
    "[https://github.com/OpenDataDE/State-zip-code-GeoJSON/blob/master/wa_washington_zip_codes_geo.min.json](https://github.com/OpenDataDE/State-zip-code-GeoJSON/blob/master/wa_washington_zip_codes_geo.min.json)\n",
    "\n",
    "--------------------"
   ]
  },
  {
   "cell_type": "markdown",
   "metadata": {},
   "source": [
    "## Data analysis"
   ]
  },
  {
   "cell_type": "markdown",
   "metadata": {},
   "source": [
    "To begin with, we import the required modules and take a look at the population density data:"
   ]
  },
  {
   "cell_type": "code",
   "execution_count": null,
   "metadata": {},
   "outputs": [],
   "source": [
    "import pandas as pd\n",
    "import plotly.express as px\n",
    "import json\n",
    "\n",
    "df = pd.read_csv('data/washington_pop-density_by_zipcode.csv')\n",
    "df"
   ]
  },
  {
   "cell_type": "markdown",
   "metadata": {},
   "source": [
    "As you can see, I removed some columns from the original dataset on the website that are not neccessary for our aims and separated both lat/lon values as well as city/state values to single columns.  "
   ]
  },
  {
   "cell_type": "code",
   "execution_count": null,
   "metadata": {},
   "outputs": [],
   "source": [
    "df.info()"
   ]
  },
  {
   "cell_type": "code",
   "execution_count": null,
   "metadata": {},
   "outputs": [],
   "source": [
    "df.describe()"
   ]
  },
  {
   "cell_type": "markdown",
   "metadata": {},
   "source": [
    "Now, let's get have some insights on the zip code boundary data:"
   ]
  },
  {
   "cell_type": "code",
   "execution_count": null,
   "metadata": {},
   "outputs": [],
   "source": [
    "# Opening JSON file\n",
    "f = open('data/wa_washington_zip_codes_geo.min.json')\n",
    "\n",
    "# returns JSON object\n",
    "data = json.load(f)"
   ]
  },
  {
   "cell_type": "code",
   "execution_count": null,
   "metadata": {},
   "outputs": [],
   "source": [
    "type(data)"
   ]
  },
  {
   "cell_type": "code",
   "execution_count": null,
   "metadata": {},
   "outputs": [],
   "source": [
    "data.keys()"
   ]
  },
  {
   "cell_type": "markdown",
   "metadata": {},
   "source": [
    "The data about zip code boundaries is stored in a nested dictionary. So, 'type' is the first key and has the value 'FeatureCollection' and the second key, 'features', is a list containing itself in total 598 entries. These entries contain all information and are (nested) lists, dictionaries etc."
   ]
  },
  {
   "cell_type": "code",
   "execution_count": null,
   "metadata": {},
   "outputs": [],
   "source": [
    "data['type']"
   ]
  },
  {
   "cell_type": "code",
   "execution_count": null,
   "metadata": {},
   "outputs": [],
   "source": [
    "data['features']"
   ]
  },
  {
   "cell_type": "code",
   "execution_count": null,
   "metadata": {},
   "outputs": [],
   "source": [
    "len(data['features'])"
   ]
  },
  {
   "cell_type": "markdown",
   "metadata": {},
   "source": [
    "Each zip code area contains individual _properties_ by which we can address it and has therefore its own _properties_ dictionary. For the First area it is:"
   ]
  },
  {
   "cell_type": "code",
   "execution_count": null,
   "metadata": {},
   "outputs": [],
   "source": [
    "print(data[\"features\"][0][\"properties\"])"
   ]
  },
  {
   "cell_type": "markdown",
   "metadata": {},
   "source": [
    "As our population data provides zip codes, we will use them to link the two datasets. Within the \"properties\" dictionary it is the key **'ZCTA5CE10'**. For the first zip code area it has the key-value '98822'. <br>\n",
    "So, the dictionary keys stay fixed, but the values may change for each zip code. "
   ]
  },
  {
   "cell_type": "code",
   "execution_count": null,
   "metadata": {},
   "outputs": [],
   "source": [
    "print(data[\"features\"][1][\"properties\"])"
   ]
  },
  {
   "cell_type": "markdown",
   "metadata": {},
   "source": [
    "## Visualisation"
   ]
  },
  {
   "cell_type": "markdown",
   "metadata": {},
   "source": [
    "Now we can map the datasets combined using _plotly choropleth mapbox_. A documentation about the parameters can be found here: [https://plotly.github.io/plotly.py-docs/generated/plotly.express.choropleth_mapbox.html](https://plotly.github.io/plotly.py-docs/generated/plotly.express.choropleth_mapbox.html). Note, that we assign our population density dataset to *data_frame* and our dataset containing the geographical information about the zip code areas (i.e. the polygons) to the parameter *geojson*. <br>\n",
    "To connect these data via zip code, the parameters *featureidkey* and *locations* become important as these are assigned to the corresponding zip code information."
   ]
  },
  {
   "cell_type": "code",
   "execution_count": null,
   "metadata": {},
   "outputs": [],
   "source": [
    "fig = px.choropleth_mapbox(data_frame=df.iloc[1:], \n",
    "                            geojson=data,\n",
    "                            featureidkey=\"properties.ZCTA5CE10\",\n",
    "                            locations=\"zip_code\",\n",
    "                            color=\"people_per_square-mile\",\n",
    "                            hover_name=\"zip_code\", \n",
    "                            hover_data=[\"city\", \"lat\", \"lon\", \"population\", \"people_per_square-mile\"],                            \n",
    "                            center={\"lat\": 47.604569, \"lon\": -122.335359},\n",
    "                            mapbox_style=\"open-street-map\", \n",
    "                            zoom=9)\n",
    "\n",
    "fig.update_layout(title=\"Population density per square mile\",\n",
    "                    legend_title=\"People per square mile\", \n",
    "                    margin={\"r\":0,\"t\":0,\"l\":0,\"b\":0})\n",
    "fig.show()"
   ]
  },
  {
   "cell_type": "markdown",
   "metadata": {},
   "source": [
    "To conclude our aim to proper define a metric for \"central neighbourhood\" let's have a look at the distribution of the density and plot a histogram:"
   ]
  },
  {
   "cell_type": "code",
   "execution_count": null,
   "metadata": {},
   "outputs": [],
   "source": [
    "fig2 = px.histogram(df, x=\"people_per_square-mile\")\n",
    "fig2.show()\n"
   ]
  },
  {
   "cell_type": "markdown",
   "metadata": {},
   "source": [
    "As we can see, we have an outlier at 50k. So lets remove it from our figure (in fact that's what have been done in the first plot, as well)."
   ]
  },
  {
   "cell_type": "code",
   "execution_count": null,
   "metadata": {},
   "outputs": [],
   "source": [
    "fig3 = px.histogram(df.iloc[1:], x=\"people_per_square-mile\")\n",
    "fig3.show()\n"
   ]
  },
  {
   "cell_type": "markdown",
   "metadata": {},
   "source": [
    "Now we may define a threshold for being central in terms of population density regarding to percentiles. Please consider, that for the task in the main python notebook, we only consider King County. We still need to apply a filter as the data within this notebook is for Washington state in total."
   ]
  },
  {
   "cell_type": "code",
   "execution_count": null,
   "metadata": {},
   "outputs": [],
   "source": [
    "p75, p80, p85, p90, p95 = df['people_per_square-mile'].quantile([0.75, 0.80, 0.85, 0.90, 0.95])"
   ]
  },
  {
   "cell_type": "code",
   "execution_count": null,
   "metadata": {},
   "outputs": [],
   "source": [
    "print(p75, p80, p85, p90, p95)"
   ]
  }
 ],
 "metadata": {
  "kernelspec": {
   "display_name": "Python 3.9.13 ('venv_neuefische')",
   "language": "python",
   "name": "python3"
  },
  "language_info": {
   "codemirror_mode": {
    "name": "ipython",
    "version": 3
   },
   "file_extension": ".py",
   "mimetype": "text/x-python",
   "name": "python",
   "nbconvert_exporter": "python",
   "pygments_lexer": "ipython3",
   "version": "3.9.13"
  },
  "orig_nbformat": 4,
  "vscode": {
   "interpreter": {
    "hash": "e51062677875a8b5ea052bf53e7427226419fee8484775de421cdc11893fce20"
   }
  }
 },
 "nbformat": 4,
 "nbformat_minor": 2
}
